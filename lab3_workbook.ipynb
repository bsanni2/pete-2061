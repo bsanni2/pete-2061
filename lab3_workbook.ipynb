{
 "cells": [
  {
   "cell_type": "markdown",
   "metadata": {
    "colab_type": "text",
    "id": "u1YDPNtbdHDj"
   },
   "source": [
    "###  #  Python Data Types\n",
    "\n",
    "## PETE 2061 Lab 3 Workbook \n",
    "\n",
    "## THIS IS DUE BY 10:20 AM TODAY\n",
    "\n",
    "<a id='top'></a>"
   ]
  },
  {
   "cell_type": "markdown",
   "metadata": {},
   "source": [
    "Step 1. Paste the url (or link) to the pete2061 folder in your github account in the \"marked down\" cell below. <br>"
   ]
  },
  {
   "cell_type": "markdown",
   "metadata": {},
   "source": [
    "https://github.com/bsanni2/pete-2061.git"
   ]
  },
  {
   "cell_type": "markdown",
   "metadata": {
    "colab_type": "text",
    "id": "krWd44XodHDp"
   },
   "source": [
    "<a id='variables'></a>\n",
    "## Decline Curve Analysis\n",
    "Well A flows with an initial flow rate ($q_i$) of 6,000 bopd (barrels of oil per day), and has a continuous initial decline rate ($D_i$) of 10% per year. The well declines exponentially. <br><br>"
   ]
  },
  {
   "cell_type": "markdown",
   "metadata": {},
   "source": [
    "Step 2. Store the given values in appropriately named variables. (I won't mention this in future lab workbooks! I\n",
    "believe you now know that you have to assign any needed values into named variables before using them in calculations.)<br>\n",
    "Step 3. Import numpy (I won't mention this in future lab workbooks, because you will need to import any required libraries before you can use the functions within those libraries).<br>\n",
    "Step 4. Create a one-dimensional (1D) time array called timeVec and let it store numbers from 0 through 20 in increments of 1. <br>\n",
    "Step 5. Write a one-line vectorized Python code that computes the rates corresponding to the times stored in timeVec, and store these rates in an array called \"rateExp\". rateExp will be the same length as timeVec.<br>\n",
    "Step 6. Import matplotlib.pyplot as plt, and use plt.plot() and plt.show() to plot and display a graph of rateExp versus timeVec, using a green solid line and square markers. (I won't mention this in future lab workbooks, because you will need to import any required libraries before you can use the functions within those libraries).<br>"
   ]
  },
  {
   "cell_type": "code",
   "execution_count": 23,
   "metadata": {},
   "outputs": [
    {
     "data": {
      "image/png": "[encoded data removed]",
      "text/plain": [
       "<Figure size 432x288 with 1 Axes>"
      ]
     },
     "metadata": {
      "needs_background": "light"
     },
     "output_type": "display_data"
    }
   ],
   "source": [
    "q_i = 6000\n",
    "d_i = .1\n",
    "\n",
    "import math\n",
    "import matplotlib.pyplot as plt\n",
    "import numpy as np\n",
    "\n",
    "timeVec = np.arange(0,21,1)\n",
    "\n",
    "rateExp = q_i * np.exp(-d_i * timeVec)\n",
    "\n",
    "plt.plot(timeVec,rateExp,'g-s')\n",
    "plt.show()\n"
   ]
  },
  {
   "cell_type": "markdown",
   "metadata": {},
   "source": [
    "Step 7. Print the data type of the timeVec array, using the numpy function \"dtype\"<br>\n",
    "Step 8. Create an array of the same shape with timeVec, call it \"rateExp2\", and initialize it to zeros.<br>\n",
    "Step 9. Instead of the vectorized computation of rateExp, use a for loop to compute the rate, and store this in an array called \"rateExp2\" <br>\n",
    "Step 10. Plot rateExp2 versus timeVec<br>"
   ]
  },
  {
   "cell_type": "code",
   "execution_count": 39,
   "metadata": {},
   "outputs": [
    {
     "name": "stdout",
     "output_type": "stream",
     "text": [
      "int32\n"
     ]
    },
    {
     "data": {
      "image/png": "[encoded data removed]",
      "text/plain": [
       "<Figure size 432x288 with 1 Axes>"
      ]
     },
     "metadata": {
      "needs_background": "light"
     },
     "output_type": "display_data"
    }
   ],
   "source": [
    "print(timeVec.dtype)\n",
    "rateExp2 = np.zeros(timeVec.shape)\n",
    "\n",
    "\n",
    "for time in timeVec:\n",
    "    rateExp2[time] = q_i * np.exp((-d_i*time))\n",
    "\n",
    "plt.plot(timeVec,rateExp2,'r-s')\n",
    "plt.show()"
   ]
  },
  {
   "cell_type": "markdown",
   "metadata": {},
   "source": [
    "## Extra Credit\n",
    "For extra credit of up to 15% of the total value of this lab. Solve the following additional steps"
   ]
  },
  {
   "cell_type": "markdown",
   "metadata": {},
   "source": [
    "Step 11. Repeat steps 2 through 10, but this time, let time be in days. So, timeVec will go from 0 to 20*365. Note that instead of D_i, you will need to use D_i_inDays = D_i/365.<br>\n",
    "Step 12. Time both the vectorized calculation and the for loop, and print out the time spent in both. Which is faster?<br>\n",
    "Step 13. Using a b-exponent of 0.45 (b=0.45), compute rateHyp, which is the flow rate for a hyperbolic decline. Plot this against time. Feel free to perform the calculation using t in years or in days, but make sure to use \"D_i\" in %/yr if t is in years, and \"D_i_inDays\" in %/day if t is in days.<br>\n",
    "Step 14. Compute rateHarm, which is the flow rate for a harmonic decline. Plot this against time. Feel free to perform the calculation using t in years or in days, but make sure to use \"D_i\" in %/yr if t is in years, and \"D_i_inDays\" in %/day if t is in days.<br>\n",
    "Step 15. Compute and plot the exponential, hyperbolic and harmonic cumulative oil production (versus timeVec) all on the same graph, and show the legend. <br>"
   ]
  },
  {
   "cell_type": "code",
   "execution_count": 46,
   "metadata": {},
   "outputs": [
    {
     "name": "stdout",
     "output_type": "stream",
     "text": [
      "int32\n"
     ]
    },
    {
     "ename": "IndexError",
     "evalue": "index 365 is out of bounds for axis 0 with size 21",
     "output_type": "error",
     "traceback": [
      "\u001b[1;31m---------------------------------------------------------------------------\u001b[0m",
      "\u001b[1;31mIndexError\u001b[0m                                Traceback (most recent call last)",
      "\u001b[1;32m<ipython-input-46-03964fce3589>\u001b[0m in \u001b[0;36m<module>\u001b[1;34m\u001b[0m\n\u001b[0;32m     11\u001b[0m \u001b[1;33m\u001b[0m\u001b[0m\n\u001b[0;32m     12\u001b[0m \u001b[1;32mfor\u001b[0m \u001b[0mtim\u001b[0m \u001b[1;32min\u001b[0m \u001b[0mtimVec_inDays\u001b[0m\u001b[1;33m:\u001b[0m\u001b[1;33m\u001b[0m\u001b[1;33m\u001b[0m\u001b[0m\n\u001b[1;32m---> 13\u001b[1;33m     \u001b[0mrateExp2\u001b[0m\u001b[1;33m[\u001b[0m\u001b[0mtim\u001b[0m\u001b[1;33m]\u001b[0m \u001b[1;33m=\u001b[0m \u001b[0mq_i\u001b[0m \u001b[1;33m*\u001b[0m \u001b[0mnp\u001b[0m\u001b[1;33m.\u001b[0m\u001b[0mexp\u001b[0m\u001b[1;33m(\u001b[0m\u001b[1;33m(\u001b[0m\u001b[1;33m-\u001b[0m\u001b[0md_i\u001b[0m\u001b[1;33m*\u001b[0m\u001b[0mtim\u001b[0m\u001b[1;33m)\u001b[0m\u001b[1;33m)\u001b[0m\u001b[1;33m\u001b[0m\u001b[1;33m\u001b[0m\u001b[0m\n\u001b[0m\u001b[0;32m     14\u001b[0m \u001b[1;33m\u001b[0m\u001b[0m\n\u001b[0;32m     15\u001b[0m \u001b[0mplt\u001b[0m\u001b[1;33m.\u001b[0m\u001b[0mplot\u001b[0m\u001b[1;33m(\u001b[0m\u001b[0mtimVec_inDays\u001b[0m\u001b[1;33m,\u001b[0m\u001b[0mrateExp2\u001b[0m\u001b[1;33m,\u001b[0m\u001b[1;34m'r-s'\u001b[0m\u001b[1;33m)\u001b[0m\u001b[1;33m\u001b[0m\u001b[1;33m\u001b[0m\u001b[0m\n",
      "\u001b[1;31mIndexError\u001b[0m: index 365 is out of bounds for axis 0 with size 21"
     ]
    }
   ],
   "source": [
    "d_i_inDays = d_i/365\n",
    "\n",
    "timeVec = np.arange(0,21,1)\n",
    "timeVec_inDays = (timeVec * 365)\n",
    "\n",
    "rateExp = q_i * np.exp(-d_i_inDays * timeVec_inDays)\n",
    "\n"
   ]
  },
  {
   "cell_type": "code",
   "execution_count": null,
   "metadata": {},
   "outputs": [],
   "source": []
  }
 ],
 "metadata": {
  "colab": {
   "collapsed_sections": [
    "sYQs3O-6dHFb",
    "8sIJ4A57dHFk",
    "_73RPOcBdHFn",
    "h9s2tfPcdHFo",
    "zt4YHVYPdHGR"
   ],
   "include_colab_link": true,
   "name": "Copy of intro-python-colab.ipynb",
   "provenance": [],
   "version": "0.3.2"
  },
  "kernelspec": {
   "display_name": "Python 3",
   "language": "python",
   "name": "python3"
  },
  "language_info": {
   "codemirror_mode": {
    "name": "ipython",
    "version": 3
   },
   "file_extension": ".py",
   "mimetype": "text/x-python",
   "name": "python",
   "nbconvert_exporter": "python",
   "pygments_lexer": "ipython3",
   "version": "3.7.3"
  }
 },
 "nbformat": 4,
 "nbformat_minor": 1
}
